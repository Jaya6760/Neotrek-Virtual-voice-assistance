{
  "cells": [
    {
      "cell_type": "code",
      "execution_count": 1,
      "metadata": {
        "colab": {
          "base_uri": "https://localhost:8080/"
        },
        "id": "qWz8LHtyfdu_",
        "outputId": "579ca501-dd38-4889-d637-857ed0f01b85"
      },
      "outputs": [
        {
          "name": "stdout",
          "output_type": "stream",
          "text": [
            "Requirement already satisfied: SpeechRecognition in c:\\users\\king\\anaconda3\\lib\\site-packages (3.10.0)Note: you may need to restart the kernel to use updated packages.\n",
            "Requirement already satisfied: requests>=2.26.0 in c:\\users\\king\\anaconda3\\lib\\site-packages (from SpeechRecognition) (2.28.2)\n",
            "Requirement already satisfied: charset-normalizer<4,>=2 in c:\\users\\king\\anaconda3\\lib\\site-packages (from requests>=2.26.0->SpeechRecognition) (3.1.0)\n",
            "Requirement already satisfied: urllib3<1.27,>=1.21.1 in c:\\users\\king\\anaconda3\\lib\\site-packages (from requests>=2.26.0->SpeechRecognition) (1.26.4)\n",
            "Requirement already satisfied: certifi>=2017.4.17 in c:\\users\\king\\anaconda3\\lib\\site-packages (from requests>=2.26.0->SpeechRecognition) (2020.12.5)\n",
            "Requirement already satisfied: idna<4,>=2.5 in c:\\users\\king\\anaconda3\\lib\\site-packages (from requests>=2.26.0->SpeechRecognition) (2.10)\n",
            "\n"
          ]
        }
      ],
      "source": [
        "%pip install SpeechRecognition\n"
      ]
    },
    {
      "cell_type": "code",
      "execution_count": 2,
      "metadata": {
        "colab": {
          "base_uri": "https://localhost:8080/"
        },
        "id": "fOSqCFU5fzL0",
        "outputId": "31debb59-25e7-4702-e42c-657f946579a4"
      },
      "outputs": [
        {
          "name": "stdout",
          "output_type": "stream",
          "text": [
            "Requirement already satisfied: playsound in c:\\users\\king\\anaconda3\\lib\\site-packages (1.3.0)\n",
            "Note: you may need to restart the kernel to use updated packages.\n",
            "Requirement already satisfied: gtts in c:\\users\\king\\anaconda3\\lib\\site-packages (2.3.1)\n",
            "Requirement already satisfied: click<8.2,>=7.1 in c:\\users\\king\\anaconda3\\lib\\site-packages (from gtts) (7.1.2)\n",
            "Requirement already satisfied: requests<3,>=2.27 in c:\\users\\king\\anaconda3\\lib\\site-packages (from gtts) (2.28.2)\n",
            "Requirement already satisfied: certifi>=2017.4.17 in c:\\users\\king\\anaconda3\\lib\\site-packages (from requests<3,>=2.27->gtts) (2020.12.5)\n",
            "Requirement already satisfied: charset-normalizer<4,>=2 in c:\\users\\king\\anaconda3\\lib\\site-packages (from requests<3,>=2.27->gtts) (3.1.0)\n",
            "Requirement already satisfied: idna<4,>=2.5 in c:\\users\\king\\anaconda3\\lib\\site-packages (from requests<3,>=2.27->gtts) (2.10)\n",
            "Requirement already satisfied: urllib3<1.27,>=1.21.1 in c:\\users\\king\\anaconda3\\lib\\site-packages (from requests<3,>=2.27->gtts) (1.26.4)\n",
            "Note: you may need to restart the kernel to use updated packages.\n"
          ]
        }
      ],
      "source": [
        "%pip install playsound\n",
        "%pip install gtts"
      ]
    },
    {
      "cell_type": "code",
      "execution_count": 3,
      "metadata": {
        "colab": {
          "base_uri": "https://localhost:8080/"
        },
        "id": "lDy2T9QngDu4",
        "outputId": "529c7fb8-317b-493d-ebb2-c3d476281f67"
      },
      "outputs": [
        {
          "name": "stdout",
          "output_type": "stream",
          "text": [
            "Requirement already satisfied: pyautogui in c:\\users\\king\\anaconda3\\lib\\site-packages (0.9.53)\n",
            "Requirement already satisfied: pymsgbox in c:\\users\\king\\anaconda3\\lib\\site-packages (from pyautogui) (1.0.9)\n",
            "Requirement already satisfied: PyTweening>=1.0.1 in c:\\users\\king\\anaconda3\\lib\\site-packages (from pyautogui) (1.0.4)\n",
            "Requirement already satisfied: pygetwindow>=0.0.5 in c:\\users\\king\\anaconda3\\lib\\site-packages (from pyautogui) (0.0.9)\n",
            "Requirement already satisfied: mouseinfo in c:\\users\\king\\anaconda3\\lib\\site-packages (from pyautogui) (0.1.3)\n",
            "Requirement already satisfied: pyscreeze>=0.1.21 in c:\\users\\king\\anaconda3\\lib\\site-packages (from pyautogui) (0.1.28)\n",
            "Requirement already satisfied: pyrect in c:\\users\\king\\anaconda3\\lib\\site-packages (from pygetwindow>=0.0.5->pyautogui) (0.2.0)\n",
            "Requirement already satisfied: Pillow>=6.2.1 in c:\\users\\king\\anaconda3\\lib\\site-packages (from pyscreeze>=0.1.21->pyautogui) (8.2.0)\n",
            "Requirement already satisfied: pyperclip in c:\\users\\king\\anaconda3\\lib\\site-packages (from mouseinfo->pyautogui) (1.8.2)\n",
            "Note: you may need to restart the kernel to use updated packages.\n"
          ]
        }
      ],
      "source": [
        "%pip install pyautogui"
      ]
    },
    {
      "cell_type": "code",
      "execution_count": 4,
      "metadata": {},
      "outputs": [
        {
          "name": "stdout",
          "output_type": "stream",
          "text": [
            "Requirement already satisfied: PyAudio in c:\\users\\king\\anaconda3\\lib\\site-packages (0.2.13)\n",
            "Note: you may need to restart the kernel to use updated packages.\n"
          ]
        }
      ],
      "source": [
        "%pip install PyAudio"
      ]
    },
    {
      "cell_type": "code",
      "execution_count": 5,
      "metadata": {
        "colab": {
          "base_uri": "https://localhost:8080/"
        },
        "id": "Tee-7mhqgI6c",
        "outputId": "0de04ab4-e4bb-4423-bb09-f96f83222aca"
      },
      "outputs": [
        {
          "name": "stdout",
          "output_type": "stream",
          "text": [
            "Requirement already satisfied: pyttsx3 in c:\\users\\king\\anaconda3\\lib\\site-packages (2.90)\n",
            "Requirement already satisfied: pywin32 in c:\\users\\king\\anaconda3\\lib\\site-packages (from pyttsx3) (227)\n",
            "Requirement already satisfied: pypiwin32 in c:\\users\\king\\anaconda3\\lib\\site-packages (from pyttsx3) (223)\n",
            "Requirement already satisfied: comtypes in c:\\users\\king\\anaconda3\\lib\\site-packages (from pyttsx3) (1.1.9)\n",
            "Note: you may need to restart the kernel to use updated packages.\n"
          ]
        }
      ],
      "source": [
        "%pip install pyttsx3"
      ]
    },
    {
      "cell_type": "code",
      "execution_count": 10,
      "metadata": {
        "colab": {
          "base_uri": "https://localhost:8080/",
          "height": 380
        },
        "id": "aa1QM2sEfS7x",
        "outputId": "94e50828-eb1c-40ee-9025-a0a320b2df9f"
      },
      "outputs": [
        {
          "name": "stdout",
          "output_type": "stream",
          "text": [
            "neotrek: Recording\n",
            "Done Listening\n",
            ">> hello\n",
            "Done\n",
            "Q: hello\n"
          ]
        },
        {
          "name": "stderr",
          "output_type": "stream",
          "text": [
            "\n",
            "    Error 263 for command:\n",
            "        open audio1162475.mp3\n",
            "    The specified device is not open or is not recognized by MCI.\n",
            "\n",
            "    Error 263 for command:\n",
            "        close audio1162475.mp3\n",
            "    The specified device is not open or is not recognized by MCI.\n",
            "Failed to close the file: audio1162475.mp3\n"
          ]
        },
        {
          "ename": "PlaysoundException",
          "evalue": "\n    Error 263 for command:\n        open audio1162475.mp3\n    The specified device is not open or is not recognized by MCI.",
          "output_type": "error",
          "traceback": [
            "\u001b[1;31m---------------------------------------------------------------------------\u001b[0m",
            "\u001b[1;31mPlaysoundException\u001b[0m                        Traceback (most recent call last)",
            "\u001b[1;32m<ipython-input-10-adb7ccd10f50>\u001b[0m in \u001b[0;36m<module>\u001b[1;34m\u001b[0m\n\u001b[0;32m    262\u001b[0m     \u001b[0mprint\u001b[0m\u001b[1;33m(\u001b[0m\u001b[1;34m\"Done\"\u001b[0m\u001b[1;33m)\u001b[0m\u001b[1;33m\u001b[0m\u001b[1;33m\u001b[0m\u001b[0m\n\u001b[0;32m    263\u001b[0m     \u001b[0mprint\u001b[0m\u001b[1;33m(\u001b[0m\u001b[1;34m\"Q:\"\u001b[0m\u001b[1;33m,\u001b[0m \u001b[0mvoice_data\u001b[0m\u001b[1;33m)\u001b[0m\u001b[1;33m\u001b[0m\u001b[1;33m\u001b[0m\u001b[0m\n\u001b[1;32m--> 264\u001b[1;33m     \u001b[0mrespond\u001b[0m\u001b[1;33m(\u001b[0m\u001b[0mvoice_data\u001b[0m\u001b[1;33m)\u001b[0m \u001b[1;31m# respond\u001b[0m\u001b[1;33m\u001b[0m\u001b[1;33m\u001b[0m\u001b[0m\n\u001b[0m",
            "\u001b[1;32m<ipython-input-10-adb7ccd10f50>\u001b[0m in \u001b[0;36mrespond\u001b[1;34m(voice_data)\u001b[0m\n\u001b[0;32m     73\u001b[0m         \u001b[0mgreetings\u001b[0m \u001b[1;33m=\u001b[0m \u001b[1;33m[\u001b[0m\u001b[1;34m\"hey, how can I help you\"\u001b[0m \u001b[1;33m+\u001b[0m \u001b[0mperson_obj\u001b[0m\u001b[1;33m.\u001b[0m\u001b[0mname\u001b[0m\u001b[1;33m,\u001b[0m \u001b[1;34m\"hey, what's up?\"\u001b[0m \u001b[1;33m+\u001b[0m \u001b[0mperson_obj\u001b[0m\u001b[1;33m.\u001b[0m\u001b[0mname\u001b[0m\u001b[1;33m,\u001b[0m \u001b[1;34m\"I'm listening\"\u001b[0m \u001b[1;33m+\u001b[0m \u001b[0mperson_obj\u001b[0m\u001b[1;33m.\u001b[0m\u001b[0mname\u001b[0m\u001b[1;33m,\u001b[0m \u001b[1;34m\"how can I help you?\"\u001b[0m \u001b[1;33m+\u001b[0m \u001b[0mperson_obj\u001b[0m\u001b[1;33m.\u001b[0m\u001b[0mname\u001b[0m\u001b[1;33m,\u001b[0m \u001b[1;34m\"hello\"\u001b[0m \u001b[1;33m+\u001b[0m \u001b[0mperson_obj\u001b[0m\u001b[1;33m.\u001b[0m\u001b[0mname\u001b[0m\u001b[1;33m]\u001b[0m\u001b[1;33m\u001b[0m\u001b[1;33m\u001b[0m\u001b[0m\n\u001b[0;32m     74\u001b[0m         \u001b[0mgreet\u001b[0m \u001b[1;33m=\u001b[0m \u001b[0mgreetings\u001b[0m\u001b[1;33m[\u001b[0m\u001b[0mrandom\u001b[0m\u001b[1;33m.\u001b[0m\u001b[0mrandint\u001b[0m\u001b[1;33m(\u001b[0m\u001b[1;36m0\u001b[0m\u001b[1;33m,\u001b[0m\u001b[0mlen\u001b[0m\u001b[1;33m(\u001b[0m\u001b[0mgreetings\u001b[0m\u001b[1;33m)\u001b[0m\u001b[1;33m-\u001b[0m\u001b[1;36m1\u001b[0m\u001b[1;33m)\u001b[0m\u001b[1;33m]\u001b[0m\u001b[1;33m\u001b[0m\u001b[1;33m\u001b[0m\u001b[0m\n\u001b[1;32m---> 75\u001b[1;33m         \u001b[0mengine_speak\u001b[0m\u001b[1;33m(\u001b[0m\u001b[0mgreet\u001b[0m\u001b[1;33m)\u001b[0m\u001b[1;33m\u001b[0m\u001b[1;33m\u001b[0m\u001b[0m\n\u001b[0m\u001b[0;32m     76\u001b[0m \u001b[1;33m\u001b[0m\u001b[0m\n\u001b[0;32m     77\u001b[0m     \u001b[1;31m# 2: name\u001b[0m\u001b[1;33m\u001b[0m\u001b[1;33m\u001b[0m\u001b[1;33m\u001b[0m\u001b[0m\n",
            "\u001b[1;32m<ipython-input-10-adb7ccd10f50>\u001b[0m in \u001b[0;36mengine_speak\u001b[1;34m(audio_string)\u001b[0m\n\u001b[0;32m     64\u001b[0m     \u001b[0maudio_file\u001b[0m \u001b[1;33m=\u001b[0m \u001b[1;34m'audio'\u001b[0m \u001b[1;33m+\u001b[0m \u001b[0mstr\u001b[0m\u001b[1;33m(\u001b[0m\u001b[0mr\u001b[0m\u001b[1;33m)\u001b[0m \u001b[1;33m+\u001b[0m \u001b[1;34m'.mp3'\u001b[0m\u001b[1;33m\u001b[0m\u001b[1;33m\u001b[0m\u001b[0m\n\u001b[0;32m     65\u001b[0m     \u001b[0mtts\u001b[0m\u001b[1;33m.\u001b[0m\u001b[0msave\u001b[0m\u001b[1;33m(\u001b[0m\u001b[0maudio_file\u001b[0m\u001b[1;33m)\u001b[0m \u001b[1;31m# save as mp3\u001b[0m\u001b[1;33m\u001b[0m\u001b[1;33m\u001b[0m\u001b[0m\n\u001b[1;32m---> 66\u001b[1;33m     \u001b[0mplaysound\u001b[0m\u001b[1;33m.\u001b[0m\u001b[0mplaysound\u001b[0m\u001b[1;33m(\u001b[0m\u001b[0maudio_file\u001b[0m\u001b[1;33m)\u001b[0m \u001b[1;31m# play the audio file\u001b[0m\u001b[1;33m\u001b[0m\u001b[1;33m\u001b[0m\u001b[0m\n\u001b[0m\u001b[0;32m     67\u001b[0m     \u001b[0mprint\u001b[0m\u001b[1;33m(\u001b[0m\u001b[0masis_obj\u001b[0m\u001b[1;33m.\u001b[0m\u001b[0mname\u001b[0m \u001b[1;33m+\u001b[0m \u001b[1;34m\":\"\u001b[0m\u001b[1;33m,\u001b[0m \u001b[0maudio_string\u001b[0m\u001b[1;33m)\u001b[0m \u001b[1;31m# print what app said\u001b[0m\u001b[1;33m\u001b[0m\u001b[1;33m\u001b[0m\u001b[0m\n\u001b[0;32m     68\u001b[0m     \u001b[0mos\u001b[0m\u001b[1;33m.\u001b[0m\u001b[0mremove\u001b[0m\u001b[1;33m(\u001b[0m\u001b[0maudio_file\u001b[0m\u001b[1;33m)\u001b[0m \u001b[1;31m# remove audio file\u001b[0m\u001b[1;33m\u001b[0m\u001b[1;33m\u001b[0m\u001b[0m\n",
            "\u001b[1;32mc:\\Users\\KING\\anaconda3\\lib\\site-packages\\playsound.py\u001b[0m in \u001b[0;36m_playsoundWin\u001b[1;34m(sound, block)\u001b[0m\n\u001b[0;32m     70\u001b[0m     \u001b[1;32mtry\u001b[0m\u001b[1;33m:\u001b[0m\u001b[1;33m\u001b[0m\u001b[1;33m\u001b[0m\u001b[0m\n\u001b[0;32m     71\u001b[0m         \u001b[0mlogger\u001b[0m\u001b[1;33m.\u001b[0m\u001b[0mdebug\u001b[0m\u001b[1;33m(\u001b[0m\u001b[1;34m'Starting'\u001b[0m\u001b[1;33m)\u001b[0m\u001b[1;33m\u001b[0m\u001b[1;33m\u001b[0m\u001b[0m\n\u001b[1;32m---> 72\u001b[1;33m         \u001b[0mwinCommand\u001b[0m\u001b[1;33m(\u001b[0m\u001b[1;34mu'open {}'\u001b[0m\u001b[1;33m.\u001b[0m\u001b[0mformat\u001b[0m\u001b[1;33m(\u001b[0m\u001b[0msound\u001b[0m\u001b[1;33m)\u001b[0m\u001b[1;33m)\u001b[0m\u001b[1;33m\u001b[0m\u001b[1;33m\u001b[0m\u001b[0m\n\u001b[0m\u001b[0;32m     73\u001b[0m         \u001b[0mwinCommand\u001b[0m\u001b[1;33m(\u001b[0m\u001b[1;34mu'play {}{}'\u001b[0m\u001b[1;33m.\u001b[0m\u001b[0mformat\u001b[0m\u001b[1;33m(\u001b[0m\u001b[0msound\u001b[0m\u001b[1;33m,\u001b[0m \u001b[1;34m' wait'\u001b[0m \u001b[1;32mif\u001b[0m \u001b[0mblock\u001b[0m \u001b[1;32melse\u001b[0m \u001b[1;34m''\u001b[0m\u001b[1;33m)\u001b[0m\u001b[1;33m)\u001b[0m\u001b[1;33m\u001b[0m\u001b[1;33m\u001b[0m\u001b[0m\n\u001b[0;32m     74\u001b[0m         \u001b[0mlogger\u001b[0m\u001b[1;33m.\u001b[0m\u001b[0mdebug\u001b[0m\u001b[1;33m(\u001b[0m\u001b[1;34m'Returning'\u001b[0m\u001b[1;33m)\u001b[0m\u001b[1;33m\u001b[0m\u001b[1;33m\u001b[0m\u001b[0m\n",
            "\u001b[1;32mc:\\Users\\KING\\anaconda3\\lib\\site-packages\\playsound.py\u001b[0m in \u001b[0;36mwinCommand\u001b[1;34m(*command)\u001b[0m\n\u001b[0;32m     62\u001b[0m                                 '\\n    ' + errorBuffer.raw.decode('utf-16').rstrip('\\0'))\n\u001b[0;32m     63\u001b[0m             \u001b[0mlogger\u001b[0m\u001b[1;33m.\u001b[0m\u001b[0merror\u001b[0m\u001b[1;33m(\u001b[0m\u001b[0mexceptionMessage\u001b[0m\u001b[1;33m)\u001b[0m\u001b[1;33m\u001b[0m\u001b[1;33m\u001b[0m\u001b[0m\n\u001b[1;32m---> 64\u001b[1;33m             \u001b[1;32mraise\u001b[0m \u001b[0mPlaysoundException\u001b[0m\u001b[1;33m(\u001b[0m\u001b[0mexceptionMessage\u001b[0m\u001b[1;33m)\u001b[0m\u001b[1;33m\u001b[0m\u001b[1;33m\u001b[0m\u001b[0m\n\u001b[0m\u001b[0;32m     65\u001b[0m         \u001b[1;32mreturn\u001b[0m \u001b[0mbuf\u001b[0m\u001b[1;33m.\u001b[0m\u001b[0mvalue\u001b[0m\u001b[1;33m\u001b[0m\u001b[1;33m\u001b[0m\u001b[0m\n\u001b[0;32m     66\u001b[0m \u001b[1;33m\u001b[0m\u001b[0m\n",
            "\u001b[1;31mPlaysoundException\u001b[0m: \n    Error 263 for command:\n        open audio1162475.mp3\n    The specified device is not open or is not recognized by MCI."
          ]
        }
      ],
      "source": [
        "import speech_recognition as sr # recognise speech\n",
        "import playsound # to play an audio file\n",
        "from gtts import gTTS # google text to speech\n",
        "import random\n",
        "from time import ctime # get time details\n",
        "import webbrowser # open browser\n",
        "import ssl\n",
        "import certifi\n",
        "import time\n",
        "import os # to remove created audio files\n",
        "from PIL import Image\n",
        "import subprocess\n",
        "import pyautogui #screenshot\n",
        "import pyttsx3\n",
        "import bs4 as bs\n",
        "import urllib.request\n",
        "import requests\n",
        "\n",
        "class person:\n",
        "    name = ''\n",
        "    def setName(self, name):\n",
        "        self.name = name\n",
        "\n",
        "class asis:\n",
        "    name = ''\n",
        "    def setName(self, name):\n",
        "        self.name = name\n",
        "\n",
        "\n",
        "\n",
        "def there_exists(terms):\n",
        "    for term in terms:\n",
        "        if term in voice_data:\n",
        "            return True\n",
        "\n",
        "def engine_speak(text):\n",
        "    text = str(text)\n",
        "    engine.say(text)\n",
        "    engine.runAndWait()\n",
        "\n",
        "r = sr.Recognizer() # initialise a recogniser\n",
        "# listen for audio and convert it to text:\n",
        "def record_audio(ask=\"\"):\n",
        "    with sr.Microphone() as source: # microphone as source\n",
        "        if ask:\n",
        "            engine_speak(ask)\n",
        "        audio = r.listen(source, 5, 5)  # listen for the audio via source\n",
        "        print(\"Done Listening\")\n",
        "        voice_data = ''\n",
        "        try:\n",
        "            voice_data = r.recognize_google(audio)  # convert audio to text\n",
        "        except sr.UnknownValueError: # error: recognizer does not understand\n",
        "            engine_speak('I did not get that')\n",
        "        except sr.RequestError:\n",
        "            engine_speak('Sorry, the service is down') # error: recognizer is not connected\n",
        "        print(\">>\", voice_data.lower()) # print what user said\n",
        "        return voice_data.lower()\n",
        "\n",
        "# get string and make a audio file to be played\n",
        "def engine_speak(audio_string):\n",
        "    audio_string = str(audio_string)\n",
        "    tts = gTTS(text=audio_string, lang='en') # text to speech(voice)\n",
        "    r = random.randint(1,20000000)\n",
        "    audio_file = 'audio' + str(r) + '.mp3'\n",
        "    tts.save(audio_file) # save as mp3\n",
        "    playsound.playsound(audio_file) # play the audio file\n",
        "    print(asis_obj.name + \":\", audio_string) # print what app said\n",
        "    os.remove(audio_file) # remove audio file\n",
        "\n",
        "def respond(voice_data):\n",
        "    # 1: greeting\n",
        "    if there_exists(['hey','hi','hello']):\n",
        "        greetings = [\"hey, how can I help you\" + person_obj.name, \"hey, what's up?\" + person_obj.name, \"I'm listening\" + person_obj.name, \"how can I help you?\" + person_obj.name, \"hello\" + person_obj.name]\n",
        "        greet = greetings[random.randint(0,len(greetings)-1)]\n",
        "        engine_speak(greet)\n",
        "\n",
        "    # 2: name\n",
        "    if there_exists([\"what is your name\",\"what's your name\",\"tell me your name\"]):\n",
        "\n",
        "        if person_obj.name:\n",
        "            engine_speak(f\"My name is {asis_obj.name}, {person_obj.name}\") #gets users name from voice input\n",
        "        else:\n",
        "            engine_speak(f\"My name is {asis_obj.name}. what's your name?\") #incase you haven't provided your name.\n",
        "\n",
        "    if there_exists([\"my name is\"]):\n",
        "        person_name = voice_data.split(\"is\")[-1].strip()\n",
        "        engine_speak(\"okay, i will remember that \" + person_name)\n",
        "        person_obj.setName(person_name) # remember name in person object\n",
        "    \n",
        "    if there_exists([\"what is my name\"]):\n",
        "        engine_speak(\"Your name must be \" + person_obj.name)\n",
        "    \n",
        "    if there_exists([\"your name should be\"]):\n",
        "        asis_name = voice_data.split(\"be\")[-1].strip()\n",
        "        # engine_speak(\"okay, i will remember that my name is \" + asis_name)\n",
        "        engine_speak(\"okay, i will remember that my name is Neotrek\")\n",
        "        asis_obj.setName(asis_name) # remember name in asis object\n",
        "\n",
        "    # 3: greeting\n",
        "    if there_exists([\"how are you\",\"how are you doing\"]):\n",
        "        engine_speak(\"I'm very well, thanks for asking \" + person_obj.name)\n",
        "\n",
        "    # 4: time\n",
        "    if there_exists([\"what's the time\",\"tell me the time\",\"what time is it\",\"what is the time\"]):\n",
        "        time = ctime().split(\" \")[3].split(\":\")[0:2]\n",
        "        if time[0] == \"00\":\n",
        "            hours = '12'\n",
        "        else:\n",
        "            hours = time[0]\n",
        "        minutes = time[1]\n",
        "        time = hours + \" hours and \" + minutes + \"minutes\"\n",
        "        engine_speak(time)\n",
        "\n",
        "    # 5: search google\n",
        "    if there_exists([\"search for\"]) and 'youtube' not in voice_data:\n",
        "        search_term = voice_data.split(\"for\")[-1]\n",
        "        url = \"https://google.com/search?q=\" + search_term\n",
        "        webbrowser.get().open(url)\n",
        "        engine_speak(\"Here is what I found for\" + search_term + \"on google\")\n",
        "    \n",
        "    if there_exists([\"search\"]) and 'youtube' not in voice_data:\n",
        "        search_term = voice_data.replace(\"search\",\"\")\n",
        "        url = \"https://google.com/search?q=\" + search_term\n",
        "        webbrowser.get().open(url)\n",
        "        engine_speak(\"Here is what I found for\" + search_term + \"on google\")\n",
        "\n",
        "    # 6: search youtube\n",
        "    if there_exists([\"youtube\"]):\n",
        "        search_term = voice_data.split(\"for\")[-1]\n",
        "        search_term = search_term.replace(\"on youtube\",\"\").replace(\"search\",\"\")\n",
        "        url = \"https://www.youtube.com/results?search_query=\" + search_term\n",
        "        webbrowser.get().open(url)\n",
        "        engine_speak(\"Here is what I found for \" + search_term + \"on youtube\")\n",
        "\n",
        "     #7: get stock price\n",
        "    if there_exists([\"price of\"]):\n",
        "        search_term = voice_data.split(\"for\")[-1]\n",
        "        url = \"https://google.com/search?q=\" + search_term\n",
        "        webbrowser.get().open(url)\n",
        "        engine_speak(\"Here is what I found for \" + search_term + \" on google\")\n",
        "    \n",
        "\n",
        "\n",
        "     #8 time table\n",
        "    if there_exists([\"show my time table\"]):\n",
        "        im = Image.open(r\"D:\\WhatsApp Image 2019-12-26 at 10.51.10 AM.jpeg\")\n",
        "        im.show()\n",
        "    \n",
        "     #9 weather\n",
        "    if there_exists([\"weather\"]):\n",
        "        search_term = voice_data.split(\"for\")[-1]\n",
        "        url = \"https://www.google.com/search?sxsrf=ACYBGNSQwMLDByBwdVFIUCbQqya-ET7AAA%3A1578847393212&ei=oUwbXtbXDN-C4-EP-5u82AE&q=weather&oq=weather&gs_l=psy-ab.3..35i39i285i70i256j0i67l4j0i131i67j0i131j0i67l2j0.1630.4591..5475...1.2..2.322.1659.9j5j0j1......0....1..gws-wiz.....10..0i71j35i39j35i362i39._5eSPD47bv8&ved=0ahUKEwiWrJvwwP7mAhVfwTgGHfsNDxsQ4dUDCAs&uact=5\"\n",
        "        webbrowser.get().open(url)\n",
        "        engine_speak(\"Here is what I found for on google\")\n",
        "     \n",
        "\n",
        "     #10 stone paper scisorrs\n",
        "    if there_exists([\"game\"]):\n",
        "        voice_data = record_audio(\"choose among rock paper or scissor\")\n",
        "        moves=[\"rock\", \"paper\", \"scissor\"]\n",
        "    \n",
        "        cmove=random.choice(moves)\n",
        "        pmove=voice_data\n",
        "        \n",
        "\n",
        "        engine_speak(\"The computer chose \" + cmove)\n",
        "        engine_speak(\"You chose \" + pmove)\n",
        "        #engine_speak(\"hi\")\n",
        "        if pmove==cmove:\n",
        "            engine_speak(\"the match is draw\")\n",
        "        elif pmove== \"rock\" and cmove== \"scissor\":\n",
        "            engine_speak(\"Player wins\")\n",
        "        elif pmove== \"rock\" and cmove== \"paper\":\n",
        "            engine_speak(\"Computer wins\")\n",
        "        elif pmove== \"paper\" and cmove== \"rock\":\n",
        "            engine_speak(\"Player wins\")\n",
        "        elif pmove== \"paper\" and cmove== \"scissor\":\n",
        "            engine_speak(\"Computer wins\")\n",
        "        elif pmove== \"scissor\" and cmove== \"paper\":\n",
        "            engine_speak(\"Player wins\")\n",
        "        elif pmove== \"scissor\" and cmove== \"rock\":\n",
        "            engine_speak(\"Computer wins\")\n",
        "\n",
        "     #11 toss a coin\n",
        "    if there_exists([\"toss\",\"flip\",\"coin\"]):\n",
        "        moves=[\"head\", \"tails\"]   \n",
        "        cmove=random.choice(moves)\n",
        "        engine_speak(\"The computer chose \" + cmove)\n",
        "\n",
        "     #12 calc\n",
        "    if there_exists([\"plus\",\"minus\",\"multiply\",\"divide\",\"power\",\"+\",\"-\",\"*\",\"/\"]):\n",
        "        opr = voice_data.split()[1]\n",
        "\n",
        "        if opr == '+':\n",
        "            engine_speak(int(voice_data.split()[0]) + int(voice_data.split()[2]))\n",
        "        elif opr == '-':\n",
        "            engine_speak(int(voice_data.split()[0]) - int(voice_data.split()[2]))\n",
        "        elif opr == 'multiply' or 'x':\n",
        "            engine_speak(int(voice_data.split()[0]) * int(voice_data.split()[2]))\n",
        "        elif opr == 'divide':\n",
        "            engine_speak(int(voice_data.split()[0]) / int(voice_data.split()[2]))\n",
        "        elif opr == 'power':\n",
        "            engine_speak(int(voice_data.split()[0]) ** int(voice_data.split()[2]))\n",
        "        else:\n",
        "            engine_speak(\"Wrong Operator\")\n",
        "        \n",
        "     #13 screenshot\n",
        "    if there_exists([\"capture\",\"my screen\",\"screenshot\"]):\n",
        "        myScreenshot = pyautogui.screenshot()\n",
        "        myScreenshot.save('D:/screenshot/screen.png')\n",
        "    \n",
        "    \n",
        "     #14 to search wikipedia for definition\n",
        "    if there_exists([\"definition of\"]):\n",
        "        definition=record_audio(\"what do you need the definition of\")\n",
        "        url=urllib.request.urlopen('https://en.wikipedia.org/wiki/'+definition)\n",
        "        soup=bs.BeautifulSoup(url,'lxml')\n",
        "        definitions=[]\n",
        "        for paragraph in soup.find_all('p'):\n",
        "            definitions.append(str(paragraph.text))\n",
        "        if definitions:\n",
        "            if definitions[0]:\n",
        "                engine_speak('im sorry i could not find that definition, please try a web search')\n",
        "            elif definitions[1]:\n",
        "                engine_speak('here is what i found '+definitions[1])\n",
        "            else:\n",
        "                engine_speak ('Here is what i found '+definitions[2])\n",
        "        else:\n",
        "                engine_speak(\"im sorry i could not find the definition for \"+definition)\n",
        "\n",
        "\n",
        "    if there_exists([\"exit\", \"quit\", \"goodbye\"]):\n",
        "        engine_speak(\"bye\")\n",
        "        exit()\n",
        "\n",
        "    # Current city or region\n",
        "    if there_exists([\"where am i\"]):\n",
        "        Ip_info = requests.get('https://api.ipdata.co?api-key=test').json()\n",
        "        loc = Ip_info['region']\n",
        "        engine_speak(f\"You must be somewhere in {loc}\")    \n",
        "   \n",
        "   # Current location as per Google maps\n",
        "    if there_exists([\"what is my exact location\"]):\n",
        "        url = \"https://www.google.com/maps/search/Where+am+I+?/\"\n",
        "        webbrowser.get().open(url)\n",
        "        engine_speak(\"You must be somewhere near here, as per Google maps\")    \n",
        "\n",
        "\n",
        "\n",
        "time.sleep(1)\n",
        "\n",
        "person_obj = person()\n",
        "asis_obj = asis()\n",
        "asis_obj.name = 'neotrek'\n",
        "\n",
        "person_obj.name = \"\"\n",
        "engine = pyttsx3.init()\n",
        "\n",
        "\n",
        "while(1):\n",
        "    voice_data = record_audio(\"Recording\") # get the voice input\n",
        "    print(\"Done\")\n",
        "    print(\"Q:\", voice_data)\n",
        "    respond(voice_data) # respond"
      ]
    },
    {
      "cell_type": "code",
      "execution_count": null,
      "metadata": {
        "id": "-QTOC8rFfccJ"
      },
      "outputs": [],
      "source": []
    }
  ],
  "metadata": {
    "colab": {
      "provenance": []
    },
    "kernelspec": {
      "display_name": "base",
      "language": "python",
      "name": "python3"
    },
    "language_info": {
      "codemirror_mode": {
        "name": "ipython",
        "version": 3
      },
      "file_extension": ".py",
      "mimetype": "text/x-python",
      "name": "python",
      "nbconvert_exporter": "python",
      "pygments_lexer": "ipython3",
      "version": "3.8.8"
    },
    "vscode": {
      "interpreter": {
        "hash": "4e577d0bfd8bc626ccf11a1fed11d3fb0458d64e13fdb1477b2d006dd010372c"
      }
    }
  },
  "nbformat": 4,
  "nbformat_minor": 0
}
